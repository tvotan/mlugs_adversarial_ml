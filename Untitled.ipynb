{
 "cells": [
  {
   "cell_type": "code",
   "execution_count": 1,
   "metadata": {},
   "outputs": [],
   "source": [
    "import zipfile\n",
    "\n",
    "target = 'source/HackingNeuralNetworks-master.zip'\n",
    "handle = zipfile.ZipFile(target)\n",
    "handle.extractall('source/')\n",
    "handle.close()"
   ]
  },
  {
   "cell_type": "code",
   "execution_count": 1,
   "metadata": {},
   "outputs": [
    {
     "name": "stdout",
     "output_type": "stream",
     "text": [
      "Package              Version   \n",
      "-------------------- ----------\n",
      "absl-py              0.9.0     \n",
      "appnope              0.1.0     \n",
      "astor                0.8.1     \n",
      "attrs                19.3.0    \n",
      "backcall             0.1.0     \n",
      "bleach               3.1.0     \n",
      "cachetools           4.0.0     \n",
      "certifi              2019.11.28\n",
      "chardet              3.0.4     \n",
      "cycler               0.10.0    \n",
      "decorator            4.4.1     \n",
      "defusedxml           0.6.0     \n",
      "entrypoints          0.3       \n",
      "gast                 0.2.2     \n",
      "google-auth          1.11.2    \n",
      "google-auth-oauthlib 0.4.1     \n",
      "google-pasta         0.1.8     \n",
      "grpcio               1.27.2    \n",
      "h5py                 2.10.0    \n",
      "idna                 2.8       \n",
      "imageio              2.6.1     \n",
      "importlib-metadata   1.5.0     \n",
      "ipykernel            5.1.4     \n",
      "ipython              7.12.0    \n",
      "ipython-genutils     0.2.0     \n",
      "ipywidgets           7.5.1     \n",
      "jedi                 0.16.0    \n",
      "Jinja2               2.11.1    \n",
      "joblib               0.14.1    \n",
      "jsonschema           3.2.0     \n",
      "jupyter              1.0.0     \n",
      "jupyter-client       5.3.4     \n",
      "jupyter-console      6.1.0     \n",
      "jupyter-core         4.6.2     \n",
      "Keras                2.3.1     \n",
      "Keras-Applications   1.0.8     \n",
      "Keras-Preprocessing  1.1.0     \n",
      "kiwisolver           1.1.0     \n",
      "Markdown             3.2.1     \n",
      "MarkupSafe           1.1.1     \n",
      "matplotlib           3.1.3     \n",
      "mistune              0.8.4     \n",
      "nbconvert            5.6.1     \n",
      "nbformat             5.0.4     \n",
      "networkx             2.4       \n",
      "nltk                 3.4.5     \n",
      "notebook             6.0.3     \n",
      "numpy                1.18.1    \n",
      "oauthlib             3.1.0     \n",
      "opt-einsum           3.1.0     \n",
      "pandas               1.0.1     \n",
      "pandocfilters        1.4.2     \n",
      "parso                0.6.1     \n",
      "pexpect              4.8.0     \n",
      "pickleshare          0.7.5     \n",
      "Pillow               7.0.0     \n",
      "pip                  19.0.3    \n",
      "prometheus-client    0.7.1     \n",
      "prompt-toolkit       3.0.3     \n",
      "protobuf             3.11.3    \n",
      "ptyprocess           0.6.0     \n",
      "pyasn1               0.4.8     \n",
      "pyasn1-modules       0.2.8     \n",
      "Pygments             2.5.2     \n",
      "pyparsing            2.4.6     \n",
      "pyrsistent           0.15.7    \n",
      "python-dateutil      2.8.1     \n",
      "pytz                 2019.3    \n",
      "PyWavelets           1.1.1     \n",
      "PyYAML               5.3       \n",
      "pyzmq                18.1.1    \n",
      "qtconsole            4.6.0     \n",
      "requests             2.22.0    \n",
      "requests-oauthlib    1.3.0     \n",
      "rsa                  4.0       \n",
      "scikit-image         0.16.2    \n",
      "scikit-learn         0.22.1    \n",
      "scipy                1.4.1     \n",
      "Send2Trash           1.5.0     \n",
      "setuptools           45.2.0    \n",
      "six                  1.14.0    \n",
      "tensorboard          2.1.0     \n",
      "tensorflow           2.1.0     \n",
      "tensorflow-estimator 2.1.0     \n",
      "termcolor            1.1.0     \n",
      "terminado            0.8.3     \n",
      "testpath             0.4.4     \n",
      "torch                1.4.0     \n",
      "tornado              6.0.3     \n",
      "traitlets            4.3.3     \n",
      "urllib3              1.25.8    \n",
      "wcwidth              0.1.8     \n",
      "webencodings         0.5.1     \n",
      "Werkzeug             1.0.0     \n",
      "wheel                0.34.2    \n",
      "widgetsnbextension   3.5.1     \n",
      "wrapt                1.12.0    \n",
      "zipp                 2.2.0     \n"
     ]
    }
   ],
   "source": [
    "!pip list"
   ]
  },
  {
   "cell_type": "code",
   "execution_count": 3,
   "metadata": {},
   "outputs": [
    {
     "name": "stdout",
     "output_type": "stream",
     "text": [
      "Collecting torchvision\n",
      "\u001b[?25l  Downloading https://files.pythonhosted.org/packages/02/c8/26ff0db66e6dd30a3ed2bfbceae9744359ae4cbb48864c70121a41c21ca5/torchvision-0.5.0-cp37-cp37m-macosx_10_9_x86_64.whl (438kB)\n",
      "\u001b[K    100% |████████████████████████████████| 440kB 9.2MB/s eta 0:00:01\n",
      "\u001b[?25hRequirement already satisfied: numpy in /Users/Tin/.virtualenvs/mlugs_adversarial/lib/python3.7/site-packages (from torchvision) (1.18.1)\n",
      "Requirement already satisfied: six in /Users/Tin/.virtualenvs/mlugs_adversarial/lib/python3.7/site-packages (from torchvision) (1.14.0)\n",
      "Requirement already satisfied: torch==1.4.0 in /Users/Tin/.virtualenvs/mlugs_adversarial/lib/python3.7/site-packages (from torchvision) (1.4.0)\n",
      "Requirement already satisfied: pillow>=4.1.1 in /Users/Tin/.virtualenvs/mlugs_adversarial/lib/python3.7/site-packages (from torchvision) (7.0.0)\n",
      "Installing collected packages: torchvision\n",
      "Successfully installed torchvision-0.5.0\n"
     ]
    }
   ],
   "source": [
    "!pip3 install torchvision"
   ]
  },
  {
   "cell_type": "code",
   "execution_count": null,
   "metadata": {},
   "outputs": [],
   "source": []
  },
  {
   "cell_type": "code",
   "execution_count": null,
   "metadata": {},
   "outputs": [],
   "source": []
  }
 ],
 "metadata": {
  "kernelspec": {
   "display_name": "Python 3",
   "language": "python",
   "name": "python3"
  },
  "language_info": {
   "codemirror_mode": {
    "name": "ipython",
    "version": 3
   },
   "file_extension": ".py",
   "mimetype": "text/x-python",
   "name": "python",
   "nbconvert_exporter": "python",
   "pygments_lexer": "ipython3",
   "version": "3.7.4"
  }
 },
 "nbformat": 4,
 "nbformat_minor": 4
}
